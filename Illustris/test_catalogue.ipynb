{
 "cells": [
  {
   "cell_type": "markdown",
   "metadata": {},
   "source": [
    "In this notebook we will try to obtain BH and Halo catalogue and compute their 2pCFs"
   ]
  },
  {
   "cell_type": "code",
   "execution_count": 1,
   "metadata": {},
   "outputs": [],
   "source": [
    "import requests\n",
    "import matplotlib as mpl\n",
    "import matplotlib.pyplot as plt\n",
    "import numpy as np\n",
    "import illustris_python as il\n",
    "from tqdm import tqdm\n",
    "import h5py as hp5"
   ]
  },
  {
   "cell_type": "code",
   "execution_count": 2,
   "metadata": {},
   "outputs": [],
   "source": [
    "# Pylinas core modules\n",
    "import Pk_library as PKL\n",
    "import MAS_library as MASL"
   ]
  },
  {
   "cell_type": "code",
   "execution_count": 63,
   "metadata": {},
   "outputs": [],
   "source": [
    "from matplotlib import colors\n",
    "from matplotlib import cm\n",
    "from sctriangulate.colors import build_custom_continuous_cmap"
   ]
  },
  {
   "cell_type": "code",
   "execution_count": 3,
   "metadata": {},
   "outputs": [],
   "source": [
    "baseUrl = 'http://www.illustris-project.org/api/'\n",
    "headers = {\"api-key\": \"10e80f2feaf19875ee764375e874499d\"}\n",
    "\n",
    "def get(path, params=None):\n",
    "     # make HTTP GET request to path\n",
    "     headers = {\"api-key\":\"10e80f2feaf19875ee764375e874499d\"}\n",
    "     r = requests.get(path, params=params, headers=headers)\n",
    "\n",
    "     # raise exception if response code is not HTTP SUCCESS (200)\n",
    "     r.raise_for_status()\n",
    "\n",
    "     if r.headers['content-type'] == 'application/json':\n",
    "         return r.json() # parse json responses automatically\n",
    "\n",
    "     if 'content-disposition' in r.headers:\n",
    "         filename = r.headers['content-disposition'].split(\"filename=\")[1]\n",
    "         with open(filename, 'wb') as f:\n",
    "             f.write(r.content)\n",
    "         return filename # return the filename string\n",
    "\n",
    "     return r\n",
    "r = get(baseUrl)"
   ]
  },
  {
   "cell_type": "code",
   "execution_count": 4,
   "metadata": {},
   "outputs": [
    {
     "data": {
      "text/plain": [
       "['Illustris-1',\n",
       " 'Illustris-1-Dark',\n",
       " 'Illustris-2',\n",
       " 'Illustris-2-Dark',\n",
       " 'Illustris-3',\n",
       " 'Illustris-3-Dark',\n",
       " 'TNG100-1',\n",
       " 'TNG100-1-Dark',\n",
       " 'TNG100-2',\n",
       " 'TNG100-2-Dark',\n",
       " 'TNG100-3',\n",
       " 'TNG100-3-Dark',\n",
       " 'TNG300-3',\n",
       " 'TNG300-2-Dark',\n",
       " 'TNG300-2',\n",
       " 'TNG300-1-Dark',\n",
       " 'TNG300-1',\n",
       " 'TNG300-3-Dark',\n",
       " 'TNG50-1',\n",
       " 'TNG50-1-Dark',\n",
       " 'TNG50-2',\n",
       " 'TNG50-2-Dark',\n",
       " 'TNG50-3',\n",
       " 'TNG50-3-Dark',\n",
       " 'TNG50-4',\n",
       " 'TNG50-4-Dark',\n",
       " 'Illustris-1-Subbox0',\n",
       " 'Illustris-1-Subbox1',\n",
       " 'Illustris-1-Subbox2',\n",
       " 'Illustris-1-Subbox3',\n",
       " 'Illustris-2-Subbox0',\n",
       " 'Illustris-2-Subbox1',\n",
       " 'Illustris-2-Subbox2',\n",
       " 'Illustris-2-Subbox3',\n",
       " 'Illustris-3-Subbox0',\n",
       " 'Illustris-3-Subbox1',\n",
       " 'Illustris-3-Subbox2',\n",
       " 'Illustris-3-Subbox3',\n",
       " 'TNG100-1-Subbox0',\n",
       " 'TNG100-1-Subbox1',\n",
       " 'TNG100-2-Subbox0',\n",
       " 'TNG100-2-Subbox1',\n",
       " 'TNG100-3-Subbox0',\n",
       " 'TNG100-3-Subbox1',\n",
       " 'TNG300-3-Subbox1',\n",
       " 'TNG300-3-Subbox2',\n",
       " 'TNG300-3-Subbox0',\n",
       " 'TNG300-2-Subbox1',\n",
       " 'TNG300-2-Subbox2',\n",
       " 'TNG300-2-Subbox0',\n",
       " 'TNG300-1-Subbox1',\n",
       " 'TNG300-1-Subbox2',\n",
       " 'TNG300-1-Subbox0',\n",
       " 'TNG50-1-Subbox0',\n",
       " 'TNG50-1-Subbox2',\n",
       " 'TNG50-1-Subbox1',\n",
       " 'TNG50-2-Subbox0',\n",
       " 'TNG50-2-Subbox2',\n",
       " 'TNG50-2-Subbox1',\n",
       " 'TNG50-3-Subbox0',\n",
       " 'TNG50-3-Subbox2',\n",
       " 'TNG50-3-Subbox1',\n",
       " 'TNG50-4-Subbox0',\n",
       " 'TNG50-4-Subbox2',\n",
       " 'TNG50-4-Subbox1']"
      ]
     },
     "execution_count": 4,
     "metadata": {},
     "output_type": "execute_result"
    }
   ],
   "source": [
    "names = [r['simulations'][i]['name'] for i in range(len(r['simulations']))]\n",
    "names"
   ]
  },
  {
   "cell_type": "markdown",
   "metadata": {},
   "source": [
    "We will try to obtain the catalog for TNG300-2"
   ]
  },
  {
   "cell_type": "code",
   "execution_count": 5,
   "metadata": {},
   "outputs": [
    {
     "name": "stdout",
     "output_type": "stream",
     "text": [
      "index= 14\n"
     ]
    },
    {
     "data": {
      "text/plain": [
       "dict_keys(['name', 'description', 'name_alt', 'boxsize', 'z_start', 'z_final', 'cosmology', 'omega_0', 'omega_L', 'omega_B', 'hubble', 'physics_model', 'has_cooling', 'has_starformation', 'has_winds', 'has_blackholes', 'mass_gas', 'mass_dm', 'softening_dm_comoving', 'softening_stars_comoving', 'softening_blackholes_comoving', 'softening_gas_comoving', 'softening_dm_max_phys', 'softening_stars_max_phys', 'softening_blackholes_max_phys', 'softening_gas_max_phys', 'softening_gas_factor', 'softening_gas_comoving_min', 'num_dm', 'num_tr_mc', 'num_tr_vel', 'longids', 'is_uniform', 'is_zoom', 'is_subbox', 'num_files_snapshot', 'num_files_groupcat', 'num_files_rockstar', 'num_files_lhalotree', 'num_files_sublink', 'num_files_ctrees', 'filesize_lhalotree', 'filesize_sublink', 'filesize_ctrees', 'filesize_ics', 'filesize_simulation', 'has_fof', 'has_subfind', 'has_rockstar', 'has_lhalotree', 'has_sublink', 'has_ctrees', 'permission_required', 'num_snapshots', 'url', 'parent_simulation', 'child_simulations', 'files', 'checksums', 'snapshots'])"
      ]
     },
     "execution_count": 5,
     "metadata": {},
     "output_type": "execute_result"
    }
   ],
   "source": [
    "# getting index of TNG300-2\n",
    "i = names.index('TNG300-2')\n",
    "print('index=', i)\n",
    "\n",
    "sim = get(r['simulations'][i]['url'])\n",
    "sim.keys()"
   ]
  },
  {
   "cell_type": "code",
   "execution_count": 6,
   "metadata": {},
   "outputs": [
    {
     "name": "stdout",
     "output_type": "stream",
     "text": [
      "box size: 205000.0\n",
      "number of DM particles: 1953125000\n"
     ]
    }
   ],
   "source": [
    "# printing box size of simulation and number of DM particles\n",
    "print('box size:', sim['boxsize'])\n",
    "print('number of DM particles:', sim['num_dm'])"
   ]
  },
  {
   "cell_type": "code",
   "execution_count": 7,
   "metadata": {},
   "outputs": [
    {
     "data": {
      "text/plain": [
       "{'simulation': 'http://www.illustris-project.org/api/TNG300-2/',\n",
       " 'number': 99,\n",
       " 'redshift': 2.22044604925031e-16,\n",
       " 'num_gas': 1842869890,\n",
       " 'num_dm': 1953125000,\n",
       " 'num_trmc': 1953125000,\n",
       " 'num_stars': 45356994,\n",
       " 'num_bhs': 635643,\n",
       " 'num_groups_fof': 2605111,\n",
       " 'num_groups_subfind': 2471022,\n",
       " 'num_groups_rockstar': 0,\n",
       " 'filesize_snapshot': 548727769424.0,\n",
       " 'filesize_groupcat': 2280897396.0,\n",
       " 'filesize_rockstar': 0.0,\n",
       " 'url': 'http://www.illustris-project.org/api/TNG300-2/snapshots/99/',\n",
       " 'subhalos': 'http://www.illustris-project.org/api/TNG300-2/snapshots/99/subhalos/',\n",
       " 'vis': {'groupcat_sfms': 'http://www.illustris-project.org/api/TNG300-2/snapshots/99/subhalos/plot.png?xQuant=mstar2_log&yQuant=ssfr&xlim=9.0%2C11.0',\n",
       "  'groupcat_sizemass': 'http://www.illustris-project.org/api/TNG300-2/snapshots/99/subhalos/plot.png?xQuant=mstar2_log&yQuant=size_stars',\n",
       "  'groupcat_mz_gas': 'http://www.illustris-project.org/api/TNG300-2/snapshots/99/subhalos/plot.png?xQuant=mstar2_log&yQuant=Z_gas',\n",
       "  'groupcat_mz_stars': 'http://www.illustris-project.org/api/TNG300-2/snapshots/99/subhalos/plot.png?xQuant=mstar2_log&yQuant=Z_stars',\n",
       "  'groupcat_mstar_mhalo': 'http://www.illustris-project.org/api/TNG300-2/snapshots/99/subhalos/plot.png?xQuant=mhalo_200_log&yQuant=mstar2_log',\n",
       "  'groupcat_smhm': 'http://www.illustris-project.org/api/TNG300-2/snapshots/99/subhalos/plot.png?xQuant=mhalo_200_log&yQuant=mstar2_mhalo200_ratio&xlim=10.0%2C14.5',\n",
       "  'groupcat_halo_sizemass': 'http://www.illustris-project.org/api/TNG300-2/snapshots/99/subhalos/plot.png?xQuant=mhalo_200_log&yQuant=rhalo_200&xlim=9.0%2C15.0',\n",
       "  'groupcat_fmr': 'http://www.illustris-project.org/api/TNG300-2/snapshots/99/subhalos/plot.png?xQuant=mstar2_log&yQuant=delta_sfms&cQuant=Z_gas&xlim=8.5%2C11.0&ylim=-1.5%2C1.5&cRel=0.7%2C1.3'},\n",
       " 'files': {'snapshot': 'http://www.illustris-project.org/api/TNG300-2/files/snapshot-99/',\n",
       "  'groupcat': 'http://www.illustris-project.org/api/TNG300-2/files/groupcat-99/'}}"
      ]
     },
     "execution_count": 7,
     "metadata": {},
     "output_type": "execute_result"
    }
   ],
   "source": [
    "#getting the snapshot \n",
    "snaps = get(sim['snapshots'])\n",
    "\n",
    "# snapshot at z=0\n",
    "snap = snaps[-1]\n",
    "\n",
    "# getting full metadata\n",
    "meta = get(snap['url'])\n",
    "meta"
   ]
  },
  {
   "cell_type": "markdown",
   "metadata": {},
   "source": [
    "Now we get the catalog for the TNG300-2"
   ]
  },
  {
   "cell_type": "code",
   "execution_count": 36,
   "metadata": {},
   "outputs": [
    {
     "name": "stdout",
     "output_type": "stream",
     "text": [
      "Number of catalog: 100\n"
     ]
    },
    {
     "name": "stderr",
     "output_type": "stream",
     "text": [
      "Getting Catalogs: 100%|██████████| 100/100 [10:34<00:00,  6.35s/it]\n"
     ]
    }
   ],
   "source": [
    "b_url = 'http://www.illustris-project.org/api/TNG300-2/'\n",
    "sim_meta = get(b_url)\n",
    "\n",
    "print('Number of catalog:', sim_meta['num_files_groupcat'])\n",
    "for i in tqdm(range(sim_meta['num_files_groupcat']), \"Getting Catalogs\"):\n",
    "    file_url = b_url+\"files/groupcat-99.\"+str(i)+\".hdf5\"\n",
    "    saved_filename = get(file_url)"
   ]
  },
  {
   "cell_type": "markdown",
   "metadata": {},
   "source": [
    "## Computing 2pCF of the TNG300-2 catalog from SubFind halos"
   ]
  },
  {
   "cell_type": "code",
   "execution_count": 55,
   "metadata": {},
   "outputs": [
    {
     "name": "stderr",
     "output_type": "stream",
     "text": [
      "Reading Subfind_Subhalops, Subhalomass from Catalogs: 100%|██████████| 100/100 [00:00<00:00, 187.88it/s]\n"
     ]
    }
   ],
   "source": [
    "# getting the positions of the group catalog from subfind\n",
    "basepath = 'TNG300-2/groupcat/fof_subhalo_tab_099.'\n",
    "\n",
    "data = np.array([[0,0,0]], dtype=np.float32)\n",
    "mass = np.array([0], dtype=np.float32)\n",
    "\n",
    "for i in tqdm(range(sim_meta['num_files_groupcat']), desc=\"Reading Subfind_Subhalops, Subhalomass from Catalogs\"):\n",
    "    filename = basepath+str(i)+'.hdf5'\n",
    "    f = hp5.File(filename, 'r')\n",
    "    data = np.concatenate((data, f['Subhalo/SubhaloPos'][:]), axis=0)\n",
    "    mass = np.concatenate((mass, f['Subhalo/SubhaloMass'][:]), axis=0)\n",
    "    f.close()\n",
    "\n",
    "data = data[1:]\n",
    "mass = mass[1:]"
   ]
  },
  {
   "cell_type": "code",
   "execution_count": null,
   "metadata": {},
   "outputs": [],
   "source": [
    "#prininting the number of groups\n",
    "print(\"Number of groups:\", len(data))"
   ]
  },
  {
   "cell_type": "markdown",
   "metadata": {},
   "source": [
    "### Computing the 2pCF"
   ]
  },
  {
   "cell_type": "code",
   "execution_count": 59,
   "metadata": {},
   "outputs": [
    {
     "name": "stdout",
     "output_type": "stream",
     "text": [
      "Getting position and delta array\n",
      "Constructing 3D density field\n",
      "\n",
      "Using CIC mass assignment scheme with weights\n",
      "Time taken = 0.284 seconds\n",
      "\n",
      "Computing correlation function\n",
      "\n",
      "Computing correlation function of the field...\n",
      "Time to complete loop = 0.11\n",
      "Time taken = 0.76 seconds\n",
      "Getting attributes\n",
      "Done!!\n"
     ]
    }
   ],
   "source": [
    "## computing xi(r)\n",
    "grid = 256\n",
    "BoxSize = 302.6\n",
    "verbose = True\n",
    "Np = len(data)\n",
    "MAS = 'CIC'\n",
    "\n",
    "print(\"Getting position and delta array\")\n",
    "pos = np.array(data/1000, dtype=np.float32)\n",
    "delta = np.zeros((grid,grid,grid), dtype=np.float32)\n",
    "\n",
    "# construct 3D density field\n",
    "print(\"Constructing 3D density field\")\n",
    "MASL.MA(pos, delta, BoxSize, MAS, W=mass, verbose=verbose) #Weighted my mass of each halo\n",
    "# MASL.MA(pos, delta, BoxSize, MAS, verbose=verbose) #without weights\n",
    "delta /= np.mean(delta, dtype=np.float64);\n",
    "delta -= 1.0\n",
    "\n",
    "# compute the correlation function\n",
    "print(\"Computing correlation function\")\n",
    "axis = 0\n",
    "threads=12\n",
    "CF     = PKL.Xi(delta, BoxSize, MAS, axis, threads)\n",
    "\n",
    "\n",
    "# get the attributes\n",
    "print(\"Getting attributes\")\n",
    "r      = CF.r3D      #radii in Mpc/h\n",
    "xi0    = CF.xi[:,0]  #correlation function (monopole)\n",
    "xi2    = CF.xi[:,1]  #correlation function (quadrupole)\n",
    "xi4    = CF.xi[:,2]  #correlation function (hexadecapole)\n",
    "Nmodes = CF.Nmodes3D #number of modes\n",
    "print(\"Done!!\")"
   ]
  },
  {
   "cell_type": "code",
   "execution_count": 61,
   "metadata": {},
   "outputs": [
    {
     "name": "stderr",
     "output_type": "stream",
     "text": [
      "/tmp/ipykernel_23106/1769430775.py:2: RuntimeWarning: invalid value encountered in log10\n",
      "  xi0_filtered = xi0[~np.isnan(np.log10(xi0))]\n",
      "/tmp/ipykernel_23106/1769430775.py:3: RuntimeWarning: invalid value encountered in log10\n",
      "  r_filterd = r[~np.isnan(np.log10(xi0))]\n"
     ]
    }
   ],
   "source": [
    "#getting on non-nan values#getting only non-nan values for log(xi0)\n",
    "xi0_filtered = xi0[~np.isnan(np.log10(xi0))]\n",
    "r_filterd = r[~np.isnan(np.log10(xi0))]"
   ]
  },
  {
   "cell_type": "code",
   "execution_count": 62,
   "metadata": {},
   "outputs": [
    {
     "name": "stdout",
     "output_type": "stream",
     "text": [
      "Plotting\n"
     ]
    },
    {
     "data": {
      "image/png": "[encoded data removed]",
      "text/plain": [
       "<Figure size 900x550 with 1 Axes>"
      ]
     },
     "metadata": {
      "needs_background": "light"
     },
     "output_type": "display_data"
    }
   ],
   "source": [
    "# log-log plot\n",
    "print(\"Plotting\")\n",
    "plt.figure(figsize=(9,5.5), dpi=100)\n",
    "plt.plot(r_filterd,xi0_filtered, color='blue')\n",
    "#setting log scale\n",
    "plt.xscale('log')\n",
    "plt.yscale('log')\n",
    "plt.grid(alpha=0.5)\n",
    "\n",
    "plt.title('TNG300-2 Subfind-Subhalos ($z=0$) - 2pCF')\n",
    "plt.xlabel('$r ~(Mpc~h^{-1})$',  fontsize=16)\n",
    "plt.ylabel(\"$\\\\xi(r)$\", fontsize=16)\n",
    "\n",
    "# plt.savefig('2pCF_TNG300-2_SubfindSubhalos.jpg', dpi=300, bbox_inches='tight')\n",
    "# plt.show()"
   ]
  },
  {
   "cell_type": "code",
   "execution_count": 70,
   "metadata": {},
   "outputs": [
    {
     "name": "stdout",
     "output_type": "stream",
     "text": [
      "Saving data\n",
      "Done!!\n"
     ]
    }
   ],
   "source": [
    "# saving r_filterd and xi0_filtered in a HDF5 file in a Group\n",
    "print(\"Saving data\")\n",
    "h5f = hp5.File('2pCF_TNG.hdf5', 'w')\n",
    "# creating a group\n",
    "grp = h5f.create_group(\"TNG300-2-Subfind_Subhalos\")\n",
    "# creating a dataset\n",
    "dset = grp.create_dataset(\"xi0\", data=xi0_filtered)\n",
    "dset = grp.create_dataset(\"r\", data=r_filterd)  \n",
    "# h5f.close()\n",
    "print(\"Done!!\")"
   ]
  },
  {
   "cell_type": "markdown",
   "metadata": {},
   "source": [
    "## Getting data for FoF halos"
   ]
  },
  {
   "cell_type": "code",
   "execution_count": 72,
   "metadata": {},
   "outputs": [
    {
     "name": "stderr",
     "output_type": "stream",
     "text": [
      "Reading FoF- Positoion, Mass from Catalogs: 100%|██████████| 100/100 [00:02<00:00, 38.15it/s]\n"
     ]
    }
   ],
   "source": [
    "# getting positions of the group catalog from FoF\n",
    "data = np.array([[0,0,0]], dtype=np.float32)\n",
    "mass = np.array([0], dtype=np.float32)\n",
    "\n",
    "for i in tqdm(range(sim_meta['num_files_groupcat']), desc=\"Reading FoF- Positoion, Mass from Catalogs\"):\n",
    "    filename = basepath+str(i)+'.hdf5'\n",
    "    f = hp5.File(filename, 'r')\n",
    "    data = np.concatenate((data, f['Group/GroupPos'][:]), axis=0)\n",
    "    mass = np.concatenate((mass, f['Group/GroupMass'][:]), axis=0)\n",
    "    f.close()\n",
    "\n",
    "data = data[1:]\n",
    "mass = mass[1:]"
   ]
  },
  {
   "cell_type": "code",
   "execution_count": 73,
   "metadata": {},
   "outputs": [
    {
     "name": "stdout",
     "output_type": "stream",
     "text": [
      "Number of groups: 2605111\n"
     ]
    }
   ],
   "source": [
    "#prininting the number of groups\n",
    "print(\"Number of groups:\", len(data))"
   ]
  },
  {
   "cell_type": "markdown",
   "metadata": {},
   "source": [
    "### computing 2pCF"
   ]
  },
  {
   "cell_type": "code",
   "execution_count": 74,
   "metadata": {},
   "outputs": [
    {
     "name": "stdout",
     "output_type": "stream",
     "text": [
      "Getting position and delta array\n",
      "Constructing 3D density field\n",
      "\n",
      "Using CIC mass assignment scheme with weights\n",
      "Time taken = 0.226 seconds\n",
      "\n",
      "Computing correlation function\n",
      "\n",
      "Computing correlation function of the field...\n",
      "Time to complete loop = 0.10\n",
      "Time taken = 0.61 seconds\n",
      "Getting attributes\n",
      "Done!!\n"
     ]
    }
   ],
   "source": [
    "## computing xi(r)\n",
    "grid = 256\n",
    "BoxSize = 302.6\n",
    "verbose = True\n",
    "Np = len(data)\n",
    "MAS = 'CIC'\n",
    "\n",
    "print(\"Getting position and delta array\")\n",
    "pos = np.array(data/1000, dtype=np.float32)\n",
    "delta = np.zeros((grid,grid,grid), dtype=np.float32)\n",
    "\n",
    "# construct 3D density field\n",
    "print(\"Constructing 3D density field\")\n",
    "MASL.MA(pos, delta, BoxSize, MAS, W=mass, verbose=verbose) #Weighted my mass of each halo\n",
    "# MASL.MA(pos, delta, BoxSize, MAS, verbose=verbose) #without weights\n",
    "delta /= np.mean(delta, dtype=np.float64);\n",
    "delta -= 1.0\n",
    "\n",
    "# compute the correlation function\n",
    "print(\"Computing correlation function\")\n",
    "axis = 0\n",
    "threads=12\n",
    "CF     = PKL.Xi(delta, BoxSize, MAS, axis, threads)\n",
    "\n",
    "\n",
    "# get the attributes\n",
    "print(\"Getting attributes\")\n",
    "r      = CF.r3D      #radii in Mpc/h\n",
    "xi0    = CF.xi[:,0]  #correlation function (monopole)\n",
    "xi2    = CF.xi[:,1]  #correlation function (quadrupole)\n",
    "xi4    = CF.xi[:,2]  #correlation function (hexadecapole)\n",
    "Nmodes = CF.Nmodes3D #number of modes\n",
    "print(\"Done!!\")"
   ]
  },
  {
   "cell_type": "code",
   "execution_count": 75,
   "metadata": {},
   "outputs": [
    {
     "name": "stderr",
     "output_type": "stream",
     "text": [
      "/tmp/ipykernel_23106/3522207347.py:2: RuntimeWarning: invalid value encountered in log10\n",
      "  xi0_filtered = xi0[~np.isnan(np.log10(xi0))]\n",
      "/tmp/ipykernel_23106/3522207347.py:3: RuntimeWarning: invalid value encountered in log10\n",
      "  r_filterd = r[~np.isnan(np.log10(xi0))]\n"
     ]
    }
   ],
   "source": [
    "#getting only non-nan values for log(xi0)\n",
    "xi0_filtered = xi0[~np.isnan(np.log10(xi0))]\n",
    "r_filterd = r[~np.isnan(np.log10(xi0))]"
   ]
  },
  {
   "cell_type": "code",
   "execution_count": 77,
   "metadata": {},
   "outputs": [
    {
     "name": "stdout",
     "output_type": "stream",
     "text": [
      "Plotting\n"
     ]
    },
    {
     "data": {
      "image/png": "[encoded data removed]",
      "text/plain": [
       "<Figure size 900x550 with 1 Axes>"
      ]
     },
     "metadata": {
      "needs_background": "light"
     },
     "output_type": "display_data"
    }
   ],
   "source": [
    "# log-log plot\n",
    "print(\"Plotting\")\n",
    "plt.figure(figsize=(9,5.5), dpi=100)\n",
    "plt.plot(r_filterd,xi0_filtered, color='blue')\n",
    "#setting log scale\n",
    "plt.xscale('log')\n",
    "plt.yscale('log')\n",
    "plt.grid(alpha=0.5)\n",
    "\n",
    "plt.title('TNG300-2 FoF-halos ($z=0$) - 2pCF')\n",
    "plt.xlabel('$r ~(Mpc~h^{-1})$',  fontsize=16)\n",
    "plt.ylabel(\"$\\\\xi(r)$\", fontsize=16)\n",
    "\n",
    "# plt.savefig('2pCF_TNG300-2_FoFhalos.jpg', dpi=300, bbox_inches='tight')\n",
    "# plt.show()"
   ]
  },
  {
   "cell_type": "code",
   "execution_count": 78,
   "metadata": {},
   "outputs": [
    {
     "name": "stdout",
     "output_type": "stream",
     "text": [
      "Saving data\n",
      "Done!!\n"
     ]
    }
   ],
   "source": [
    "# saving r_filterd and xi0_filtered in a HDF5 file in a Group\n",
    "print(\"Saving data\")\n",
    "# h5f = hp5.File('2pCF_TNG.hdf5', 'w') #not needed since file aready exists\n",
    "# creating a group\n",
    "grp1 = h5f.create_group(\"TNG300-2-FoF_halos\")\n",
    "# creating a dataset\n",
    "dset = grp1.create_dataset(\"xi0\", data=xi0_filtered)\n",
    "dset = grp1.create_dataset(\"r\", data=r_filterd)  \n",
    "h5f.keys()\n",
    "h5f.close()\n",
    "print(\"Done!!\")"
   ]
  },
  {
   "cell_type": "markdown",
   "metadata": {},
   "source": [
    "# Plotting 2pCF of FoF and Subfind halos"
   ]
  },
  {
   "cell_type": "code",
   "execution_count": 82,
   "metadata": {},
   "outputs": [],
   "source": [
    "#reading data from the HDF5 file\n",
    "h5f = hp5.File('2pCF_TNG.hdf5', 'r')\n",
    "grp1 = h5f['TNG300-2-Subfind_Subhalos']\n",
    "grp2 = h5f['TNG300-2-FoF_halos']\n",
    "\n",
    "#getting the data for Subfind\n",
    "xi0_filtered_S = grp1['xi0'][:]\n",
    "r_filterd_S = grp1['r'][:]\n",
    "\n",
    "#getting the data for FoF\n",
    "xi0_filtered_F = grp2['xi0'][:]\n",
    "r_filterd_F = grp2['r'][:]"
   ]
  },
  {
   "cell_type": "code",
   "execution_count": 84,
   "metadata": {},
   "outputs": [
    {
     "data": {
      "image/png": "[encoded data removed]",
      "text/plain": [
       "<Figure size 900x550 with 1 Axes>"
      ]
     },
     "metadata": {
      "needs_background": "light"
     },
     "output_type": "display_data"
    }
   ],
   "source": [
    "#plotting\n",
    "# changing font style to Serif\n",
    "plt.rc('font',**{'family':'serif','serif':['Times']})\n",
    "\n",
    "plt.figure(figsize=(9,5.5), dpi=100)\n",
    "plt.plot(r_filterd_S,xi0_filtered_S, color='blue', label='Subfind')\n",
    "plt.plot(r_filterd_F,xi0_filtered_F, color='red', label='FoF')\n",
    "#setting log scale\n",
    "plt.xscale('log')\n",
    "plt.yscale('log')\n",
    "\n",
    "plt.legend()\n",
    "\n",
    "# plt.xlim(0.1, 10)\n",
    "plt.grid(alpha=0.5)\n",
    "plt.xlabel('$r ~(Mpc~h^{-1})$',  fontsize=16)\n",
    "plt.ylabel(\"$\\\\xi(r)$\", fontsize=16)\n",
    "plt.title('2pCF of Subfind and FoF halos ($z=0$)')\n",
    "\n",
    "# plt.savefig('2pCF_Subfind_FoF.jpg', dpi=300, bbox_inches='tight')"
   ]
  }
 ],
 "metadata": {
  "interpreter": {
   "hash": "a100a020c1347d29047accd8754d12314753b912c65e3fe9b63394f518026f37"
  },
  "kernelspec": {
   "display_name": "Python 3.9.7 ('base')",
   "language": "python",
   "name": "python3"
  },
  "language_info": {
   "codemirror_mode": {
    "name": "ipython",
    "version": 3
   },
   "file_extension": ".py",
   "mimetype": "text/x-python",
   "name": "python",
   "nbconvert_exporter": "python",
   "pygments_lexer": "ipython3",
   "version": "3.9.7"
  },
  "orig_nbformat": 4
 },
 "nbformat": 4,
 "nbformat_minor": 2
}
